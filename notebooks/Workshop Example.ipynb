{
 "metadata": {
  "name": "",
  "signature": "sha256:e37d543a7a10e9986cdfd2a47ae37ff9b54f04885d40d9db8f2f9320506c7c51"
 },
 "nbformat": 3,
 "nbformat_minor": 0,
 "worksheets": [
  {
   "cells": [
    {
     "cell_type": "code",
     "collapsed": false,
     "input": [
      "%matplotlib inline\n",
      "%load_ext autoreload\n",
      "%autoreload 2\n",
      "\n",
      "import numpy as np\n",
      "import matplotlib.pyplot as plt\n"
     ],
     "language": "python",
     "metadata": {},
     "outputs": []
    },
    {
     "cell_type": "code",
     "collapsed": false,
     "input": [
      "from pymks.datasets import make_elastic_stress_random\n",
      "sample_size = 200\n",
      "grain_size = [(15, 2), (2, 15), (7, 7), (8, 3), (3, 9), (2, 2)]\n",
      "n_samples = [sample_size] * 6\n",
      "elastic_modulus = (410, 200)\n",
      "poissons_ratio = (0.28, 0.3)\n",
      "macro_strain = 0.001\n",
      "size = (21, 21)\n",
      "\n",
      "X, y = "
     ],
     "language": "python",
     "metadata": {},
     "outputs": []
    },
    {
     "cell_type": "code",
     "collapsed": false,
     "input": [
      "from pymks.tools import draw_microstructures\n",
      "X_examples = X[::sample_size]\n"
     ],
     "language": "python",
     "metadata": {},
     "outputs": []
    },
    {
     "cell_type": "code",
     "collapsed": false,
     "input": [],
     "language": "python",
     "metadata": {},
     "outputs": []
    },
    {
     "cell_type": "code",
     "collapsed": false,
     "input": [
      "from pymks import MKSHomogenizationModel\n",
      "from pymks import PrimitiveBasis\n",
      "\n",
      "prim_basis = \n",
      "model = \n"
     ],
     "language": "python",
     "metadata": {},
     "outputs": []
    },
    {
     "cell_type": "code",
     "collapsed": false,
     "input": [
      "model.n_components = 40\n",
      "model.fit"
     ],
     "language": "python",
     "metadata": {},
     "outputs": []
    },
    {
     "cell_type": "code",
     "collapsed": false,
     "input": [
      "from pymks.tools import draw_component_variance\n",
      "\n"
     ],
     "language": "python",
     "metadata": {},
     "outputs": []
    },
    {
     "cell_type": "code",
     "collapsed": false,
     "input": [
      "from sklearn.cross_validation import train_test_split\n",
      "\n",
      "flat_shape = (X.shape[0],) + (np.prod(X.shape[1:]),)\n",
      "\n",
      "\n"
     ],
     "language": "python",
     "metadata": {},
     "outputs": []
    },
    {
     "cell_type": "code",
     "collapsed": false,
     "input": [
      "from sklearn.grid_search import GridSearchCV\n",
      "\n",
      "params_to_tune = {'degree': np.arange(1, 4), 'n_components': np.arange(1, 8)}\n",
      "fit_params = {'size': X[0].shape, 'periodic_axes': [0, 1]}\n",
      "gs = "
     ],
     "language": "python",
     "metadata": {},
     "outputs": []
    },
    {
     "cell_type": "code",
     "collapsed": false,
     "input": [
      "from pymks.tools import draw_gridscores_matrix\n",
      "\n",
      "draw_gridscores_matrix\n"
     ],
     "language": "python",
     "metadata": {},
     "outputs": []
    },
    {
     "cell_type": "code",
     "collapsed": false,
     "input": [
      "print('Order of Polynomial'), (gs.best_estimator_.degree)\n",
      "print('Number of Components'), (gs.best_estimator_.n_components)\n",
      "print('R-squared Value'), (gs.score(X_test, y_test))"
     ],
     "language": "python",
     "metadata": {},
     "outputs": []
    },
    {
     "cell_type": "code",
     "collapsed": false,
     "input": [
      "from pymks.tools import draw_gridscores\n",
      "\n",
      "gs_deg_1 = [x for x in gs.grid_scores_ \\\n",
      "            if x.parameters['degree'] == 1][2:-1]\n",
      "gs_deg_2 = [x for x in gs.grid_scores_ \\\n",
      "            if x.parameters['degree'] == 2][2:-1]\n",
      "gs_deg_3 = [x for x in gs.grid_scores_ \\\n",
      "            if x.parameters['degree'] == 3][2:-1]\n",
      "\n",
      "draw_gridscores([gs_deg_1,  gs_deg_2, gs_deg_3], 'n_components',\n",
      "                data_labels=['1st Order', '2nd Order', '3rd Order'],\n",
      "                colors=['#f46d43', '#1a9641', '#762a83'],\n",
      "                param_label='Number of Components', score_label='R-Squared')"
     ],
     "language": "python",
     "metadata": {},
     "outputs": []
    },
    {
     "cell_type": "code",
     "collapsed": false,
     "input": [
      "model = gs.best_estimator_\n",
      "model.fit(X, y, periodic_axes=[0, 1])"
     ],
     "language": "python",
     "metadata": {},
     "outputs": []
    },
    {
     "cell_type": "code",
     "collapsed": false,
     "input": [
      "test_sample_size = 20\n",
      "n_samples = [test_sample_size] * 6\n",
      "X_new, y_new = "
     ],
     "language": "python",
     "metadata": {},
     "outputs": []
    },
    {
     "cell_type": "code",
     "collapsed": false,
     "input": [
      "y_predict = \n"
     ],
     "language": "python",
     "metadata": {},
     "outputs": []
    },
    {
     "cell_type": "code",
     "collapsed": false,
     "input": [
      "from pymks.tools import draw_components\n",
      "\n",
      "draw_components([model.reduced_fit_data[:, :2],\n",
      "                 model.reduced_predict_data[:, :2]],\n",
      "                ['Training Data', 'Testing Data'])"
     ],
     "language": "python",
     "metadata": {},
     "outputs": []
    },
    {
     "cell_type": "code",
     "collapsed": false,
     "input": [
      "from sklearn.metrics import r2_score\n",
      "print('R-squared'), (model.score(X_new, y_new, periodic_axes=[0, 1]))"
     ],
     "language": "python",
     "metadata": {},
     "outputs": []
    },
    {
     "cell_type": "code",
     "collapsed": false,
     "input": [
      "# Goodness of fit graph\n",
      "\n",
      "from pymks.tools import draw_goodness_of_fit\n",
      "\n",
      "fit_data = \n",
      "pred_data = \n",
      "draw_goodness_of_fit(fit_data, pred_data, ['Training Data', 'Testing Data'])"
     ],
     "language": "python",
     "metadata": {},
     "outputs": []
    }
   ],
   "metadata": {}
  }
 ]
}